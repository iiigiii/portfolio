{
 "cells": [
  {
   "cell_type": "code",
   "execution_count": 1,
   "metadata": {},
   "outputs": [],
   "source": [
    "import pandas as pd\n",
    "import statistics\n",
    "import researchpy as rp\n",
    "import seaborn as sns\n",
    "import matplotlib.pyplot as plt"
   ]
  },
  {
   "cell_type": "markdown",
   "metadata": {},
   "source": [
    "Гипотеза: отмена товара характерна для случаев, когда заказ начинают собирать на следующий день или позже."
   ]
  },
  {
   "cell_type": "code",
   "execution_count": 2,
   "metadata": {},
   "outputs": [],
   "source": [
    "troubles = pd.read_csv('troubles.csv')"
   ]
  },
  {
   "cell_type": "code",
   "execution_count": 3,
   "metadata": {},
   "outputs": [
    {
     "data": {
      "text/html": [
       "<div>\n",
       "<style scoped>\n",
       "    .dataframe tbody tr th:only-of-type {\n",
       "        vertical-align: middle;\n",
       "    }\n",
       "\n",
       "    .dataframe tbody tr th {\n",
       "        vertical-align: top;\n",
       "    }\n",
       "\n",
       "    .dataframe thead th {\n",
       "        text-align: right;\n",
       "    }\n",
       "</style>\n",
       "<table border=\"1\" class=\"dataframe\">\n",
       "  <thead>\n",
       "    <tr style=\"text-align: right;\">\n",
       "      <th></th>\n",
       "      <th>order_id</th>\n",
       "      <th>item_id</th>\n",
       "      <th>state</th>\n",
       "      <th>city</th>\n",
       "      <th>retailer_id</th>\n",
       "      <th>store_id</th>\n",
       "      <th>starts_at</th>\n",
       "      <th>ends_at</th>\n",
       "      <th>created_at</th>\n",
       "      <th>shipped_at</th>\n",
       "    </tr>\n",
       "  </thead>\n",
       "  <tbody>\n",
       "    <tr>\n",
       "      <td>0</td>\n",
       "      <td>557</td>\n",
       "      <td>5384692</td>\n",
       "      <td>canceled</td>\n",
       "      <td>1.0</td>\n",
       "      <td>1.0</td>\n",
       "      <td>14</td>\n",
       "      <td>2018-01-09 06:00:00</td>\n",
       "      <td>2018-01-09 08:00:00</td>\n",
       "      <td>2018-01-08 15:47:37</td>\n",
       "      <td>2018-01-09 08:42:14</td>\n",
       "    </tr>\n",
       "    <tr>\n",
       "      <td>1</td>\n",
       "      <td>557</td>\n",
       "      <td>5384705</td>\n",
       "      <td>canceled</td>\n",
       "      <td>1.0</td>\n",
       "      <td>1.0</td>\n",
       "      <td>14</td>\n",
       "      <td>2018-01-09 06:00:00</td>\n",
       "      <td>2018-01-09 08:00:00</td>\n",
       "      <td>2018-01-08 15:47:37</td>\n",
       "      <td>2018-01-09 08:42:14</td>\n",
       "    </tr>\n",
       "    <tr>\n",
       "      <td>2</td>\n",
       "      <td>557</td>\n",
       "      <td>5384740</td>\n",
       "      <td>replaced</td>\n",
       "      <td>1.0</td>\n",
       "      <td>1.0</td>\n",
       "      <td>14</td>\n",
       "      <td>2018-01-09 06:00:00</td>\n",
       "      <td>2018-01-09 08:00:00</td>\n",
       "      <td>2018-01-08 15:47:37</td>\n",
       "      <td>2018-01-09 08:42:14</td>\n",
       "    </tr>\n",
       "    <tr>\n",
       "      <td>3</td>\n",
       "      <td>557</td>\n",
       "      <td>5390675</td>\n",
       "      <td>canceled</td>\n",
       "      <td>1.0</td>\n",
       "      <td>1.0</td>\n",
       "      <td>14</td>\n",
       "      <td>2018-01-09 06:00:00</td>\n",
       "      <td>2018-01-09 08:00:00</td>\n",
       "      <td>2018-01-08 15:47:37</td>\n",
       "      <td>2018-01-09 08:42:14</td>\n",
       "    </tr>\n",
       "    <tr>\n",
       "      <td>4</td>\n",
       "      <td>557</td>\n",
       "      <td>5390725</td>\n",
       "      <td>canceled</td>\n",
       "      <td>1.0</td>\n",
       "      <td>1.0</td>\n",
       "      <td>14</td>\n",
       "      <td>2018-01-09 06:00:00</td>\n",
       "      <td>2018-01-09 08:00:00</td>\n",
       "      <td>2018-01-08 15:47:37</td>\n",
       "      <td>2018-01-09 08:42:14</td>\n",
       "    </tr>\n",
       "  </tbody>\n",
       "</table>\n",
       "</div>"
      ],
      "text/plain": [
       "   order_id  item_id     state  city  retailer_id  store_id  \\\n",
       "0       557  5384692  canceled   1.0          1.0        14   \n",
       "1       557  5384705  canceled   1.0          1.0        14   \n",
       "2       557  5384740  replaced   1.0          1.0        14   \n",
       "3       557  5390675  canceled   1.0          1.0        14   \n",
       "4       557  5390725  canceled   1.0          1.0        14   \n",
       "\n",
       "             starts_at              ends_at           created_at  \\\n",
       "0  2018-01-09 06:00:00  2018-01-09 08:00:00  2018-01-08 15:47:37   \n",
       "1  2018-01-09 06:00:00  2018-01-09 08:00:00  2018-01-08 15:47:37   \n",
       "2  2018-01-09 06:00:00  2018-01-09 08:00:00  2018-01-08 15:47:37   \n",
       "3  2018-01-09 06:00:00  2018-01-09 08:00:00  2018-01-08 15:47:37   \n",
       "4  2018-01-09 06:00:00  2018-01-09 08:00:00  2018-01-08 15:47:37   \n",
       "\n",
       "            shipped_at  \n",
       "0  2018-01-09 08:42:14  \n",
       "1  2018-01-09 08:42:14  \n",
       "2  2018-01-09 08:42:14  \n",
       "3  2018-01-09 08:42:14  \n",
       "4  2018-01-09 08:42:14  "
      ]
     },
     "execution_count": 3,
     "metadata": {},
     "output_type": "execute_result"
    }
   ],
   "source": [
    "troubles.head()"
   ]
  },
  {
   "cell_type": "code",
   "execution_count": 4,
   "metadata": {},
   "outputs": [
    {
     "name": "stdout",
     "output_type": "stream",
     "text": [
      "<class 'pandas.core.frame.DataFrame'>\n",
      "RangeIndex: 838063 entries, 0 to 838062\n",
      "Data columns (total 10 columns):\n",
      "order_id       838063 non-null int64\n",
      "item_id        838063 non-null int64\n",
      "state          838063 non-null object\n",
      "city           831713 non-null float64\n",
      "retailer_id    831713 non-null float64\n",
      "store_id       838063 non-null int64\n",
      "starts_at      838053 non-null object\n",
      "ends_at        838053 non-null object\n",
      "created_at     838063 non-null object\n",
      "shipped_at     838063 non-null object\n",
      "dtypes: float64(2), int64(3), object(5)\n",
      "memory usage: 63.9+ MB\n"
     ]
    }
   ],
   "source": [
    "troubles.info()"
   ]
  },
  {
   "cell_type": "code",
   "execution_count": 5,
   "metadata": {},
   "outputs": [],
   "source": [
    "troubles.dropna(subset=['starts_at'], inplace=True)"
   ]
  },
  {
   "cell_type": "code",
   "execution_count": 6,
   "metadata": {},
   "outputs": [],
   "source": [
    "troubles.drop(['item_id', 'state'], axis=1, inplace=True)"
   ]
  },
  {
   "cell_type": "code",
   "execution_count": 7,
   "metadata": {},
   "outputs": [],
   "source": [
    "troubles.drop_duplicates(inplace=True)"
   ]
  },
  {
   "cell_type": "code",
   "execution_count": 8,
   "metadata": {},
   "outputs": [],
   "source": [
    "troubles['created_at'] = pd.to_datetime(troubles.created_at)\n",
    "troubles['starts_at'] = pd.to_datetime(troubles.starts_at)"
   ]
  },
  {
   "cell_type": "code",
   "execution_count": 9,
   "metadata": {},
   "outputs": [],
   "source": [
    "troubles['hours_to_start'] = (troubles['starts_at'] - troubles['created_at']).astype('timedelta64[h]').astype(int)"
   ]
  },
  {
   "cell_type": "code",
   "execution_count": 10,
   "metadata": {},
   "outputs": [],
   "source": [
    "troubles['created_at'] = troubles.created_at.dt.day\n",
    "troubles['starts_at'] = troubles.starts_at.dt.day"
   ]
  },
  {
   "cell_type": "code",
   "execution_count": 11,
   "metadata": {},
   "outputs": [],
   "source": [
    "def check_day(row):\n",
    "    if row['starts_at'] != row['created_at'] or row['hours_to_start'] > 24:\n",
    "        return 'Yes'\n",
    "    else:\n",
    "        return 'No'"
   ]
  },
  {
   "cell_type": "code",
   "execution_count": 12,
   "metadata": {},
   "outputs": [],
   "source": [
    "troubles['start_next_day'] = troubles.apply(check_day, axis=1)"
   ]
  },
  {
   "cell_type": "code",
   "execution_count": 13,
   "metadata": {},
   "outputs": [
    {
     "name": "stdout",
     "output_type": "stream",
     "text": [
      "239684 - количество заказов в которых были отмены|замены\n"
     ]
    }
   ],
   "source": [
    "print(troubles.order_id.count(), '- количество заказов в которых были отмены|замены')"
   ]
  },
  {
   "cell_type": "code",
   "execution_count": 14,
   "metadata": {},
   "outputs": [
    {
     "data": {
      "text/html": [
       "<div>\n",
       "<style scoped>\n",
       "    .dataframe tbody tr th:only-of-type {\n",
       "        vertical-align: middle;\n",
       "    }\n",
       "\n",
       "    .dataframe tbody tr th {\n",
       "        vertical-align: top;\n",
       "    }\n",
       "\n",
       "    .dataframe thead th {\n",
       "        text-align: right;\n",
       "    }\n",
       "</style>\n",
       "<table border=\"1\" class=\"dataframe\">\n",
       "  <thead>\n",
       "    <tr style=\"text-align: right;\">\n",
       "      <th></th>\n",
       "      <th>start_next_day</th>\n",
       "      <th>count_troubles</th>\n",
       "    </tr>\n",
       "  </thead>\n",
       "  <tbody>\n",
       "    <tr>\n",
       "      <td>0</td>\n",
       "      <td>No</td>\n",
       "      <td>68515</td>\n",
       "    </tr>\n",
       "    <tr>\n",
       "      <td>1</td>\n",
       "      <td>Yes</td>\n",
       "      <td>171169</td>\n",
       "    </tr>\n",
       "  </tbody>\n",
       "</table>\n",
       "</div>"
      ],
      "text/plain": [
       "  start_next_day  count_troubles\n",
       "0             No           68515\n",
       "1            Yes          171169"
      ]
     },
     "execution_count": 14,
     "metadata": {},
     "output_type": "execute_result"
    }
   ],
   "source": [
    "troubles.groupby('start_next_day').count()['order_id'].reset_index().rename(\n",
    "    columns={'order_id':'count_troubles'})"
   ]
  },
  {
   "cell_type": "markdown",
   "metadata": {},
   "source": [
    "Действительно, можно избежать большей части отмен, если все заказы будут собираться в день их создания.\n",
    "Необходимо выяснить причину задержки, ведь заявлено что доставка происходит день в день."
   ]
  },
  {
   "cell_type": "code",
   "execution_count": 15,
   "metadata": {},
   "outputs": [
    {
     "data": {
      "text/html": [
       "<div>\n",
       "<style scoped>\n",
       "    .dataframe tbody tr th:only-of-type {\n",
       "        vertical-align: middle;\n",
       "    }\n",
       "\n",
       "    .dataframe tbody tr th {\n",
       "        vertical-align: top;\n",
       "    }\n",
       "\n",
       "    .dataframe thead th {\n",
       "        text-align: right;\n",
       "    }\n",
       "</style>\n",
       "<table border=\"1\" class=\"dataframe\">\n",
       "  <thead>\n",
       "    <tr style=\"text-align: right;\">\n",
       "      <th></th>\n",
       "      <th>order_id</th>\n",
       "      <th>city</th>\n",
       "      <th>retailer_id</th>\n",
       "      <th>store_id</th>\n",
       "      <th>starts_at</th>\n",
       "      <th>created_at</th>\n",
       "      <th>hours_to_start</th>\n",
       "    </tr>\n",
       "  </thead>\n",
       "  <tbody>\n",
       "    <tr>\n",
       "      <td>count</td>\n",
       "      <td>2.396840e+05</td>\n",
       "      <td>238308.000000</td>\n",
       "      <td>238308.000000</td>\n",
       "      <td>239684.000000</td>\n",
       "      <td>239684.000000</td>\n",
       "      <td>239684.000000</td>\n",
       "      <td>239684.000000</td>\n",
       "    </tr>\n",
       "    <tr>\n",
       "      <td>mean</td>\n",
       "      <td>4.163107e+06</td>\n",
       "      <td>1.894922</td>\n",
       "      <td>1.418387</td>\n",
       "      <td>23.738723</td>\n",
       "      <td>15.832121</td>\n",
       "      <td>15.889117</td>\n",
       "      <td>107.626483</td>\n",
       "    </tr>\n",
       "    <tr>\n",
       "      <td>std</td>\n",
       "      <td>6.450788e+05</td>\n",
       "      <td>3.100088</td>\n",
       "      <td>2.330464</td>\n",
       "      <td>30.009810</td>\n",
       "      <td>8.874638</td>\n",
       "      <td>8.839945</td>\n",
       "      <td>421.694139</td>\n",
       "    </tr>\n",
       "    <tr>\n",
       "      <td>min</td>\n",
       "      <td>5.570000e+02</td>\n",
       "      <td>1.000000</td>\n",
       "      <td>1.000000</td>\n",
       "      <td>1.000000</td>\n",
       "      <td>1.000000</td>\n",
       "      <td>1.000000</td>\n",
       "      <td>-56.000000</td>\n",
       "    </tr>\n",
       "    <tr>\n",
       "      <td>25%</td>\n",
       "      <td>3.629096e+06</td>\n",
       "      <td>1.000000</td>\n",
       "      <td>1.000000</td>\n",
       "      <td>8.000000</td>\n",
       "      <td>8.000000</td>\n",
       "      <td>8.000000</td>\n",
       "      <td>8.000000</td>\n",
       "    </tr>\n",
       "    <tr>\n",
       "      <td>50%</td>\n",
       "      <td>4.102606e+06</td>\n",
       "      <td>1.000000</td>\n",
       "      <td>1.000000</td>\n",
       "      <td>11.000000</td>\n",
       "      <td>16.000000</td>\n",
       "      <td>16.000000</td>\n",
       "      <td>20.000000</td>\n",
       "    </tr>\n",
       "    <tr>\n",
       "      <td>75%</td>\n",
       "      <td>4.683724e+06</td>\n",
       "      <td>1.000000</td>\n",
       "      <td>1.000000</td>\n",
       "      <td>21.000000</td>\n",
       "      <td>23.000000</td>\n",
       "      <td>23.000000</td>\n",
       "      <td>47.000000</td>\n",
       "    </tr>\n",
       "    <tr>\n",
       "      <td>max</td>\n",
       "      <td>5.513202e+06</td>\n",
       "      <td>23.000000</td>\n",
       "      <td>16.000000</td>\n",
       "      <td>120.000000</td>\n",
       "      <td>31.000000</td>\n",
       "      <td>31.000000</td>\n",
       "      <td>12361.000000</td>\n",
       "    </tr>\n",
       "  </tbody>\n",
       "</table>\n",
       "</div>"
      ],
      "text/plain": [
       "           order_id           city    retailer_id       store_id  \\\n",
       "count  2.396840e+05  238308.000000  238308.000000  239684.000000   \n",
       "mean   4.163107e+06       1.894922       1.418387      23.738723   \n",
       "std    6.450788e+05       3.100088       2.330464      30.009810   \n",
       "min    5.570000e+02       1.000000       1.000000       1.000000   \n",
       "25%    3.629096e+06       1.000000       1.000000       8.000000   \n",
       "50%    4.102606e+06       1.000000       1.000000      11.000000   \n",
       "75%    4.683724e+06       1.000000       1.000000      21.000000   \n",
       "max    5.513202e+06      23.000000      16.000000     120.000000   \n",
       "\n",
       "           starts_at     created_at  hours_to_start  \n",
       "count  239684.000000  239684.000000   239684.000000  \n",
       "mean       15.832121      15.889117      107.626483  \n",
       "std         8.874638       8.839945      421.694139  \n",
       "min         1.000000       1.000000      -56.000000  \n",
       "25%         8.000000       8.000000        8.000000  \n",
       "50%        16.000000      16.000000       20.000000  \n",
       "75%        23.000000      23.000000       47.000000  \n",
       "max        31.000000      31.000000    12361.000000  "
      ]
     },
     "execution_count": 15,
     "metadata": {},
     "output_type": "execute_result"
    }
   ],
   "source": [
    "troubles.describe()"
   ]
  },
  {
   "cell_type": "code",
   "execution_count": 16,
   "metadata": {},
   "outputs": [
    {
     "data": {
      "text/html": [
       "<div>\n",
       "<style scoped>\n",
       "    .dataframe tbody tr th:only-of-type {\n",
       "        vertical-align: middle;\n",
       "    }\n",
       "\n",
       "    .dataframe tbody tr th {\n",
       "        vertical-align: top;\n",
       "    }\n",
       "\n",
       "    .dataframe thead th {\n",
       "        text-align: right;\n",
       "    }\n",
       "</style>\n",
       "<table border=\"1\" class=\"dataframe\">\n",
       "  <thead>\n",
       "    <tr style=\"text-align: right;\">\n",
       "      <th></th>\n",
       "      <th>order_id</th>\n",
       "      <th>city</th>\n",
       "      <th>retailer_id</th>\n",
       "      <th>store_id</th>\n",
       "      <th>starts_at</th>\n",
       "      <th>ends_at</th>\n",
       "      <th>created_at</th>\n",
       "      <th>shipped_at</th>\n",
       "      <th>hours_to_start</th>\n",
       "      <th>start_next_day</th>\n",
       "    </tr>\n",
       "  </thead>\n",
       "  <tbody>\n",
       "    <tr>\n",
       "      <td>23981</td>\n",
       "      <td>3210889</td>\n",
       "      <td>1.0</td>\n",
       "      <td>1.0</td>\n",
       "      <td>1</td>\n",
       "      <td>13</td>\n",
       "      <td>2018-01-13 06:00:00</td>\n",
       "      <td>13</td>\n",
       "      <td>2018-01-13 18:16:07</td>\n",
       "      <td>-15</td>\n",
       "      <td>No</td>\n",
       "    </tr>\n",
       "    <tr>\n",
       "      <td>453661</td>\n",
       "      <td>4082090</td>\n",
       "      <td>1.0</td>\n",
       "      <td>1.0</td>\n",
       "      <td>1</td>\n",
       "      <td>3</td>\n",
       "      <td>2019-01-03 08:00:00</td>\n",
       "      <td>3</td>\n",
       "      <td>2019-01-04 04:30:26</td>\n",
       "      <td>-8</td>\n",
       "      <td>No</td>\n",
       "    </tr>\n",
       "    <tr>\n",
       "      <td>478843</td>\n",
       "      <td>4139408</td>\n",
       "      <td>1.0</td>\n",
       "      <td>1.0</td>\n",
       "      <td>8</td>\n",
       "      <td>31</td>\n",
       "      <td>2018-12-31 18:00:00</td>\n",
       "      <td>31</td>\n",
       "      <td>2018-12-31 19:45:00</td>\n",
       "      <td>-1</td>\n",
       "      <td>No</td>\n",
       "    </tr>\n",
       "    <tr>\n",
       "      <td>542817</td>\n",
       "      <td>4290200</td>\n",
       "      <td>1.0</td>\n",
       "      <td>1.0</td>\n",
       "      <td>10</td>\n",
       "      <td>22</td>\n",
       "      <td>2019-02-22 13:00:00</td>\n",
       "      <td>24</td>\n",
       "      <td>2019-02-25 17:13:00</td>\n",
       "      <td>-56</td>\n",
       "      <td>Yes</td>\n",
       "    </tr>\n",
       "    <tr>\n",
       "      <td>634452</td>\n",
       "      <td>4543736</td>\n",
       "      <td>1.0</td>\n",
       "      <td>1.0</td>\n",
       "      <td>18</td>\n",
       "      <td>30</td>\n",
       "      <td>2019-04-30 07:00:00</td>\n",
       "      <td>30</td>\n",
       "      <td>2019-04-30 14:26:25</td>\n",
       "      <td>-9</td>\n",
       "      <td>No</td>\n",
       "    </tr>\n",
       "    <tr>\n",
       "      <td>643679</td>\n",
       "      <td>4571052</td>\n",
       "      <td>1.0</td>\n",
       "      <td>1.0</td>\n",
       "      <td>1</td>\n",
       "      <td>25</td>\n",
       "      <td>2019-04-25 08:00:00</td>\n",
       "      <td>25</td>\n",
       "      <td>2019-04-25 13:30:29</td>\n",
       "      <td>-5</td>\n",
       "      <td>No</td>\n",
       "    </tr>\n",
       "  </tbody>\n",
       "</table>\n",
       "</div>"
      ],
      "text/plain": [
       "        order_id  city  retailer_id  store_id  starts_at              ends_at  \\\n",
       "23981    3210889   1.0          1.0         1         13  2018-01-13 06:00:00   \n",
       "453661   4082090   1.0          1.0         1          3  2019-01-03 08:00:00   \n",
       "478843   4139408   1.0          1.0         8         31  2018-12-31 18:00:00   \n",
       "542817   4290200   1.0          1.0        10         22  2019-02-22 13:00:00   \n",
       "634452   4543736   1.0          1.0        18         30  2019-04-30 07:00:00   \n",
       "643679   4571052   1.0          1.0         1         25  2019-04-25 08:00:00   \n",
       "\n",
       "        created_at           shipped_at  hours_to_start start_next_day  \n",
       "23981           13  2018-01-13 18:16:07             -15             No  \n",
       "453661           3  2019-01-04 04:30:26              -8             No  \n",
       "478843          31  2018-12-31 19:45:00              -1             No  \n",
       "542817          24  2019-02-25 17:13:00             -56            Yes  \n",
       "634452          30  2019-04-30 14:26:25              -9             No  \n",
       "643679          25  2019-04-25 13:30:29              -5             No  "
      ]
     },
     "execution_count": 16,
     "metadata": {},
     "output_type": "execute_result"
    }
   ],
   "source": [
    "troubles[troubles['hours_to_start']<0]"
   ]
  },
  {
   "cell_type": "markdown",
   "metadata": {},
   "source": [
    "В данных найдены ошибки. В 6 случаях время начала доставки раньше чем создания самого заказа."
   ]
  },
  {
   "cell_type": "markdown",
   "metadata": {},
   "source": [
    "  "
   ]
  },
  {
   "cell_type": "code",
   "execution_count": 17,
   "metadata": {},
   "outputs": [],
   "source": [
    "orders = pd.read_csv('orders_sber.csv')"
   ]
  },
  {
   "cell_type": "code",
   "execution_count": 18,
   "metadata": {},
   "outputs": [
    {
     "data": {
      "text/html": [
       "<div>\n",
       "<style scoped>\n",
       "    .dataframe tbody tr th:only-of-type {\n",
       "        vertical-align: middle;\n",
       "    }\n",
       "\n",
       "    .dataframe tbody tr th {\n",
       "        vertical-align: top;\n",
       "    }\n",
       "\n",
       "    .dataframe thead th {\n",
       "        text-align: right;\n",
       "    }\n",
       "</style>\n",
       "<table border=\"1\" class=\"dataframe\">\n",
       "  <thead>\n",
       "    <tr style=\"text-align: right;\">\n",
       "      <th></th>\n",
       "      <th>order_id</th>\n",
       "      <th>user_id</th>\n",
       "      <th>item_total</th>\n",
       "      <th>promo_total</th>\n",
       "      <th>cost</th>\n",
       "      <th>total_cost</th>\n",
       "      <th>total_quantity</th>\n",
       "      <th>total_weight</th>\n",
       "      <th>created_at</th>\n",
       "      <th>shipped_at</th>\n",
       "      <th>delivery_starts_at</th>\n",
       "      <th>delivery_ends_at</th>\n",
       "      <th>store_id</th>\n",
       "      <th>store_city</th>\n",
       "      <th>retailer_id</th>\n",
       "      <th>ship_address_id</th>\n",
       "      <th>lat</th>\n",
       "      <th>lon</th>\n",
       "      <th>state</th>\n",
       "    </tr>\n",
       "  </thead>\n",
       "  <tbody>\n",
       "    <tr>\n",
       "      <td>0</td>\n",
       "      <td>557</td>\n",
       "      <td>97</td>\n",
       "      <td>5205</td>\n",
       "      <td>-200.0</td>\n",
       "      <td>0.0</td>\n",
       "      <td>0.0</td>\n",
       "      <td>13</td>\n",
       "      <td>6085</td>\n",
       "      <td>2018-01-08 15:47:37</td>\n",
       "      <td>2018-01-09 08:42:14</td>\n",
       "      <td>2018-01-09 06:00:00</td>\n",
       "      <td>2018-01-09 08:00:00</td>\n",
       "      <td>14</td>\n",
       "      <td>1.0</td>\n",
       "      <td>1.0</td>\n",
       "      <td>431346</td>\n",
       "      <td>55.671838</td>\n",
       "      <td>37.459107</td>\n",
       "      <td>shipped</td>\n",
       "    </tr>\n",
       "    <tr>\n",
       "      <td>1</td>\n",
       "      <td>4123</td>\n",
       "      <td>333</td>\n",
       "      <td>4886</td>\n",
       "      <td>0.0</td>\n",
       "      <td>299.0</td>\n",
       "      <td>0.0</td>\n",
       "      <td>42</td>\n",
       "      <td>15765</td>\n",
       "      <td>2018-12-29 13:26:01</td>\n",
       "      <td>2019-01-01 11:23:18</td>\n",
       "      <td>2019-01-01 10:00:00</td>\n",
       "      <td>2019-01-01 12:00:00</td>\n",
       "      <td>1</td>\n",
       "      <td>1.0</td>\n",
       "      <td>1.0</td>\n",
       "      <td>1222006</td>\n",
       "      <td>55.838648</td>\n",
       "      <td>37.644950</td>\n",
       "      <td>shipped</td>\n",
       "    </tr>\n",
       "    <tr>\n",
       "      <td>2</td>\n",
       "      <td>4537</td>\n",
       "      <td>364</td>\n",
       "      <td>3014</td>\n",
       "      <td>0.0</td>\n",
       "      <td>299.0</td>\n",
       "      <td>299.0</td>\n",
       "      <td>2</td>\n",
       "      <td>18000</td>\n",
       "      <td>2018-03-22 06:48:39</td>\n",
       "      <td>2018-03-24 18:50:43</td>\n",
       "      <td>2018-03-24 17:00:00</td>\n",
       "      <td>2018-03-24 19:00:00</td>\n",
       "      <td>8</td>\n",
       "      <td>1.0</td>\n",
       "      <td>1.0</td>\n",
       "      <td>577850</td>\n",
       "      <td>55.751306</td>\n",
       "      <td>37.811747</td>\n",
       "      <td>shipped</td>\n",
       "    </tr>\n",
       "    <tr>\n",
       "      <td>3</td>\n",
       "      <td>135575</td>\n",
       "      <td>604</td>\n",
       "      <td>4533</td>\n",
       "      <td>0.0</td>\n",
       "      <td>299.0</td>\n",
       "      <td>0.0</td>\n",
       "      <td>14</td>\n",
       "      <td>14395</td>\n",
       "      <td>2018-12-29 12:24:40</td>\n",
       "      <td>2018-12-29 19:04:00</td>\n",
       "      <td>2018-12-29 18:00:00</td>\n",
       "      <td>2018-12-29 20:00:00</td>\n",
       "      <td>10</td>\n",
       "      <td>1.0</td>\n",
       "      <td>1.0</td>\n",
       "      <td>1058806</td>\n",
       "      <td>55.843686</td>\n",
       "      <td>37.438182</td>\n",
       "      <td>shipped</td>\n",
       "    </tr>\n",
       "    <tr>\n",
       "      <td>4</td>\n",
       "      <td>137642</td>\n",
       "      <td>834</td>\n",
       "      <td>3880</td>\n",
       "      <td>0.0</td>\n",
       "      <td>299.0</td>\n",
       "      <td>299.0</td>\n",
       "      <td>98</td>\n",
       "      <td>25680</td>\n",
       "      <td>2018-07-19 18:46:39</td>\n",
       "      <td>2018-07-20 05:55:56</td>\n",
       "      <td>2018-07-20 05:00:00</td>\n",
       "      <td>2018-07-20 07:00:00</td>\n",
       "      <td>21</td>\n",
       "      <td>1.0</td>\n",
       "      <td>1.0</td>\n",
       "      <td>718114</td>\n",
       "      <td>55.755488</td>\n",
       "      <td>37.598053</td>\n",
       "      <td>shipped</td>\n",
       "    </tr>\n",
       "  </tbody>\n",
       "</table>\n",
       "</div>"
      ],
      "text/plain": [
       "   order_id  user_id  item_total  promo_total   cost  total_cost  \\\n",
       "0       557       97        5205       -200.0    0.0         0.0   \n",
       "1      4123      333        4886          0.0  299.0         0.0   \n",
       "2      4537      364        3014          0.0  299.0       299.0   \n",
       "3    135575      604        4533          0.0  299.0         0.0   \n",
       "4    137642      834        3880          0.0  299.0       299.0   \n",
       "\n",
       "   total_quantity  total_weight           created_at           shipped_at  \\\n",
       "0              13          6085  2018-01-08 15:47:37  2018-01-09 08:42:14   \n",
       "1              42         15765  2018-12-29 13:26:01  2019-01-01 11:23:18   \n",
       "2               2         18000  2018-03-22 06:48:39  2018-03-24 18:50:43   \n",
       "3              14         14395  2018-12-29 12:24:40  2018-12-29 19:04:00   \n",
       "4              98         25680  2018-07-19 18:46:39  2018-07-20 05:55:56   \n",
       "\n",
       "    delivery_starts_at     delivery_ends_at  store_id  store_city  \\\n",
       "0  2018-01-09 06:00:00  2018-01-09 08:00:00        14         1.0   \n",
       "1  2019-01-01 10:00:00  2019-01-01 12:00:00         1         1.0   \n",
       "2  2018-03-24 17:00:00  2018-03-24 19:00:00         8         1.0   \n",
       "3  2018-12-29 18:00:00  2018-12-29 20:00:00        10         1.0   \n",
       "4  2018-07-20 05:00:00  2018-07-20 07:00:00        21         1.0   \n",
       "\n",
       "   retailer_id  ship_address_id        lat        lon    state  \n",
       "0          1.0           431346  55.671838  37.459107  shipped  \n",
       "1          1.0          1222006  55.838648  37.644950  shipped  \n",
       "2          1.0           577850  55.751306  37.811747  shipped  \n",
       "3          1.0          1058806  55.843686  37.438182  shipped  \n",
       "4          1.0           718114  55.755488  37.598053  shipped  "
      ]
     },
     "execution_count": 18,
     "metadata": {},
     "output_type": "execute_result"
    }
   ],
   "source": [
    "orders.head()"
   ]
  },
  {
   "cell_type": "code",
   "execution_count": 19,
   "metadata": {},
   "outputs": [],
   "source": [
    "orders['month_order'] = pd.to_datetime(orders.created_at).dt.month"
   ]
  },
  {
   "cell_type": "code",
   "execution_count": 20,
   "metadata": {},
   "outputs": [],
   "source": [
    "orders['hour_order'] = pd.to_datetime(orders.created_at).dt.hour"
   ]
  },
  {
   "cell_type": "code",
   "execution_count": 21,
   "metadata": {},
   "outputs": [
    {
     "name": "stdout",
     "output_type": "stream",
     "text": [
      "<class 'pandas.core.frame.DataFrame'>\n",
      "RangeIndex: 334245 entries, 0 to 334244\n",
      "Data columns (total 21 columns):\n",
      "order_id              334245 non-null int64\n",
      "user_id               334245 non-null int64\n",
      "item_total            334245 non-null int64\n",
      "promo_total           334245 non-null float64\n",
      "cost                  334245 non-null float64\n",
      "total_cost            334245 non-null float64\n",
      "total_quantity        334245 non-null int64\n",
      "total_weight          334245 non-null int64\n",
      "created_at            334245 non-null object\n",
      "shipped_at            334245 non-null object\n",
      "delivery_starts_at    334244 non-null object\n",
      "delivery_ends_at      334244 non-null object\n",
      "store_id              334245 non-null int64\n",
      "store_city            332629 non-null float64\n",
      "retailer_id           332629 non-null float64\n",
      "ship_address_id       334245 non-null int64\n",
      "lat                   334231 non-null float64\n",
      "lon                   334231 non-null float64\n",
      "state                 334245 non-null object\n",
      "month_order           334245 non-null int64\n",
      "hour_order            334245 non-null int64\n",
      "dtypes: float64(7), int64(9), object(5)\n",
      "memory usage: 53.6+ MB\n"
     ]
    }
   ],
   "source": [
    "orders.info()"
   ]
  },
  {
   "cell_type": "markdown",
   "metadata": {},
   "source": [
    "Существуют пробелы в данных в графах: город в котором расположен магазин и ритейлер, а так же в адресе покупателя. Необходимо выяснить с чем связана эта проблема при получении данных."
   ]
  },
  {
   "cell_type": "code",
   "execution_count": 22,
   "metadata": {},
   "outputs": [
    {
     "data": {
      "text/html": [
       "<div>\n",
       "<style scoped>\n",
       "    .dataframe tbody tr th:only-of-type {\n",
       "        vertical-align: middle;\n",
       "    }\n",
       "\n",
       "    .dataframe tbody tr th {\n",
       "        vertical-align: top;\n",
       "    }\n",
       "\n",
       "    .dataframe thead th {\n",
       "        text-align: right;\n",
       "    }\n",
       "</style>\n",
       "<table border=\"1\" class=\"dataframe\">\n",
       "  <thead>\n",
       "    <tr style=\"text-align: right;\">\n",
       "      <th></th>\n",
       "      <th>order_id</th>\n",
       "      <th>user_id</th>\n",
       "      <th>item_total</th>\n",
       "      <th>promo_total</th>\n",
       "      <th>cost</th>\n",
       "      <th>total_cost</th>\n",
       "      <th>total_quantity</th>\n",
       "      <th>total_weight</th>\n",
       "      <th>store_id</th>\n",
       "      <th>store_city</th>\n",
       "      <th>retailer_id</th>\n",
       "      <th>ship_address_id</th>\n",
       "      <th>lat</th>\n",
       "      <th>lon</th>\n",
       "      <th>month_order</th>\n",
       "      <th>hour_order</th>\n",
       "    </tr>\n",
       "  </thead>\n",
       "  <tbody>\n",
       "    <tr>\n",
       "      <td>count</td>\n",
       "      <td>334245.0</td>\n",
       "      <td>334245.0</td>\n",
       "      <td>334245.0</td>\n",
       "      <td>334245.0</td>\n",
       "      <td>334245.0</td>\n",
       "      <td>334245.0</td>\n",
       "      <td>334245.0</td>\n",
       "      <td>334245.0</td>\n",
       "      <td>334245.0</td>\n",
       "      <td>332629.0</td>\n",
       "      <td>332629.0</td>\n",
       "      <td>334245.0</td>\n",
       "      <td>334231.0</td>\n",
       "      <td>334231.0</td>\n",
       "      <td>334245.0</td>\n",
       "      <td>334245.0</td>\n",
       "    </tr>\n",
       "    <tr>\n",
       "      <td>mean</td>\n",
       "      <td>4188269.0</td>\n",
       "      <td>177843.0</td>\n",
       "      <td>4918.0</td>\n",
       "      <td>-67.0</td>\n",
       "      <td>258.0</td>\n",
       "      <td>189.0</td>\n",
       "      <td>44.0</td>\n",
       "      <td>26926.0</td>\n",
       "      <td>23.0</td>\n",
       "      <td>2.0</td>\n",
       "      <td>1.0</td>\n",
       "      <td>1388983.0</td>\n",
       "      <td>56.0</td>\n",
       "      <td>39.0</td>\n",
       "      <td>6.0</td>\n",
       "      <td>12.0</td>\n",
       "    </tr>\n",
       "    <tr>\n",
       "      <td>std</td>\n",
       "      <td>658829.0</td>\n",
       "      <td>130990.0</td>\n",
       "      <td>5526.0</td>\n",
       "      <td>305.0</td>\n",
       "      <td>172.0</td>\n",
       "      <td>175.0</td>\n",
       "      <td>75.0</td>\n",
       "      <td>41873.0</td>\n",
       "      <td>30.0</td>\n",
       "      <td>3.0</td>\n",
       "      <td>2.0</td>\n",
       "      <td>610806.0</td>\n",
       "      <td>1.0</td>\n",
       "      <td>5.0</td>\n",
       "      <td>3.0</td>\n",
       "      <td>5.0</td>\n",
       "    </tr>\n",
       "    <tr>\n",
       "      <td>min</td>\n",
       "      <td>557.0</td>\n",
       "      <td>31.0</td>\n",
       "      <td>0.0</td>\n",
       "      <td>-39899.0</td>\n",
       "      <td>0.0</td>\n",
       "      <td>-298.0</td>\n",
       "      <td>0.0</td>\n",
       "      <td>0.0</td>\n",
       "      <td>1.0</td>\n",
       "      <td>1.0</td>\n",
       "      <td>1.0</td>\n",
       "      <td>6017.0</td>\n",
       "      <td>0.0</td>\n",
       "      <td>0.0</td>\n",
       "      <td>1.0</td>\n",
       "      <td>0.0</td>\n",
       "    </tr>\n",
       "    <tr>\n",
       "      <td>25%</td>\n",
       "      <td>3634639.0</td>\n",
       "      <td>84872.0</td>\n",
       "      <td>2566.0</td>\n",
       "      <td>0.0</td>\n",
       "      <td>199.0</td>\n",
       "      <td>0.0</td>\n",
       "      <td>18.0</td>\n",
       "      <td>9685.0</td>\n",
       "      <td>8.0</td>\n",
       "      <td>1.0</td>\n",
       "      <td>1.0</td>\n",
       "      <td>853173.0</td>\n",
       "      <td>56.0</td>\n",
       "      <td>38.0</td>\n",
       "      <td>4.0</td>\n",
       "      <td>8.0</td>\n",
       "    </tr>\n",
       "    <tr>\n",
       "      <td>50%</td>\n",
       "      <td>4134595.0</td>\n",
       "      <td>146590.0</td>\n",
       "      <td>3873.0</td>\n",
       "      <td>0.0</td>\n",
       "      <td>299.0</td>\n",
       "      <td>199.0</td>\n",
       "      <td>31.0</td>\n",
       "      <td>18180.0</td>\n",
       "      <td>11.0</td>\n",
       "      <td>1.0</td>\n",
       "      <td>1.0</td>\n",
       "      <td>1333773.0</td>\n",
       "      <td>56.0</td>\n",
       "      <td>38.0</td>\n",
       "      <td>6.0</td>\n",
       "      <td>12.0</td>\n",
       "    </tr>\n",
       "    <tr>\n",
       "      <td>75%</td>\n",
       "      <td>4745424.0</td>\n",
       "      <td>243751.0</td>\n",
       "      <td>5806.0</td>\n",
       "      <td>0.0</td>\n",
       "      <td>299.0</td>\n",
       "      <td>299.0</td>\n",
       "      <td>50.0</td>\n",
       "      <td>31935.0</td>\n",
       "      <td>21.0</td>\n",
       "      <td>1.0</td>\n",
       "      <td>1.0</td>\n",
       "      <td>1890743.0</td>\n",
       "      <td>56.0</td>\n",
       "      <td>38.0</td>\n",
       "      <td>8.0</td>\n",
       "      <td>16.0</td>\n",
       "    </tr>\n",
       "    <tr>\n",
       "      <td>max</td>\n",
       "      <td>5513202.0</td>\n",
       "      <td>682383.0</td>\n",
       "      <td>480746.0</td>\n",
       "      <td>0.0</td>\n",
       "      <td>9500.0</td>\n",
       "      <td>9500.0</td>\n",
       "      <td>7728.0</td>\n",
       "      <td>3864000.0</td>\n",
       "      <td>120.0</td>\n",
       "      <td>23.0</td>\n",
       "      <td>16.0</td>\n",
       "      <td>2669705.0</td>\n",
       "      <td>56.0</td>\n",
       "      <td>73.0</td>\n",
       "      <td>12.0</td>\n",
       "      <td>23.0</td>\n",
       "    </tr>\n",
       "  </tbody>\n",
       "</table>\n",
       "</div>"
      ],
      "text/plain": [
       "        order_id   user_id  item_total  promo_total      cost  total_cost  \\\n",
       "count   334245.0  334245.0    334245.0     334245.0  334245.0    334245.0   \n",
       "mean   4188269.0  177843.0      4918.0        -67.0     258.0       189.0   \n",
       "std     658829.0  130990.0      5526.0        305.0     172.0       175.0   \n",
       "min        557.0      31.0         0.0     -39899.0       0.0      -298.0   \n",
       "25%    3634639.0   84872.0      2566.0          0.0     199.0         0.0   \n",
       "50%    4134595.0  146590.0      3873.0          0.0     299.0       199.0   \n",
       "75%    4745424.0  243751.0      5806.0          0.0     299.0       299.0   \n",
       "max    5513202.0  682383.0    480746.0          0.0    9500.0      9500.0   \n",
       "\n",
       "       total_quantity  total_weight  store_id  store_city  retailer_id  \\\n",
       "count        334245.0      334245.0  334245.0    332629.0     332629.0   \n",
       "mean             44.0       26926.0      23.0         2.0          1.0   \n",
       "std              75.0       41873.0      30.0         3.0          2.0   \n",
       "min               0.0           0.0       1.0         1.0          1.0   \n",
       "25%              18.0        9685.0       8.0         1.0          1.0   \n",
       "50%              31.0       18180.0      11.0         1.0          1.0   \n",
       "75%              50.0       31935.0      21.0         1.0          1.0   \n",
       "max            7728.0     3864000.0     120.0        23.0         16.0   \n",
       "\n",
       "       ship_address_id       lat       lon  month_order  hour_order  \n",
       "count         334245.0  334231.0  334231.0     334245.0    334245.0  \n",
       "mean         1388983.0      56.0      39.0          6.0        12.0  \n",
       "std           610806.0       1.0       5.0          3.0         5.0  \n",
       "min             6017.0       0.0       0.0          1.0         0.0  \n",
       "25%           853173.0      56.0      38.0          4.0         8.0  \n",
       "50%          1333773.0      56.0      38.0          6.0        12.0  \n",
       "75%          1890743.0      56.0      38.0          8.0        16.0  \n",
       "max          2669705.0      56.0      73.0         12.0        23.0  "
      ]
     },
     "execution_count": 22,
     "metadata": {},
     "output_type": "execute_result"
    }
   ],
   "source": [
    "orders.describe().round()"
   ]
  },
  {
   "cell_type": "markdown",
   "metadata": {},
   "source": [
    "Так же существуют ошибки данных связанные с тем, что в заказе может быть 0 в графе количество товаров и общий вес"
   ]
  },
  {
   "cell_type": "code",
   "execution_count": 23,
   "metadata": {},
   "outputs": [
    {
     "data": {
      "text/html": [
       "<div>\n",
       "<style scoped>\n",
       "    .dataframe tbody tr th:only-of-type {\n",
       "        vertical-align: middle;\n",
       "    }\n",
       "\n",
       "    .dataframe tbody tr th {\n",
       "        vertical-align: top;\n",
       "    }\n",
       "\n",
       "    .dataframe thead th {\n",
       "        text-align: right;\n",
       "    }\n",
       "</style>\n",
       "<table border=\"1\" class=\"dataframe\">\n",
       "  <thead>\n",
       "    <tr style=\"text-align: right;\">\n",
       "      <th></th>\n",
       "      <th>user_id</th>\n",
       "      <th>count_orders</th>\n",
       "    </tr>\n",
       "  </thead>\n",
       "  <tbody>\n",
       "    <tr>\n",
       "      <td>0</td>\n",
       "      <td>25097</td>\n",
       "      <td>475</td>\n",
       "    </tr>\n",
       "    <tr>\n",
       "      <td>1</td>\n",
       "      <td>42230</td>\n",
       "      <td>433</td>\n",
       "    </tr>\n",
       "    <tr>\n",
       "      <td>2</td>\n",
       "      <td>129033</td>\n",
       "      <td>352</td>\n",
       "    </tr>\n",
       "    <tr>\n",
       "      <td>3</td>\n",
       "      <td>91068</td>\n",
       "      <td>301</td>\n",
       "    </tr>\n",
       "    <tr>\n",
       "      <td>4</td>\n",
       "      <td>56017</td>\n",
       "      <td>280</td>\n",
       "    </tr>\n",
       "  </tbody>\n",
       "</table>\n",
       "</div>"
      ],
      "text/plain": [
       "   user_id  count_orders\n",
       "0    25097           475\n",
       "1    42230           433\n",
       "2   129033           352\n",
       "3    91068           301\n",
       "4    56017           280"
      ]
     },
     "execution_count": 23,
     "metadata": {},
     "output_type": "execute_result"
    }
   ],
   "source": [
    "users_count = orders.groupby('user_id').count().sort_values('order_id', ascending=False\n",
    "              )['order_id'].reset_index().rename(columns={'order_id' : 'count_orders'})\n",
    "users_count.head()"
   ]
  },
  {
   "cell_type": "code",
   "execution_count": 24,
   "metadata": {},
   "outputs": [
    {
     "name": "stdout",
     "output_type": "stream",
     "text": [
      "119031 - количество nользователей\n",
      " 43442 - количество пользователей совершивших повторную покупку\n",
      " 36.496 - их процент\n"
     ]
    }
   ],
   "source": [
    "q = users_count.user_id.count()\n",
    "w = users_count[users_count.count_orders > 1].user_id.count()\n",
    "print(q, '- количество nользователей\\n', w, '- количество пользователей совершивших повторную покупку\\n',\n",
    "      round(w/(q/100), 3), '- их процент')"
   ]
  },
  {
   "cell_type": "code",
   "execution_count": 25,
   "metadata": {},
   "outputs": [
    {
     "name": "stdout",
     "output_type": "stream",
     "text": [
      "5.95 - среднее количество заказов на постоянного клиента\n"
     ]
    }
   ],
   "source": [
    "print(round(users_count[users_count.count_orders > 1]['count_orders'].mean(), 2),\n",
    "      '- среднее количество заказов на постоянного клиента')"
   ]
  },
  {
   "cell_type": "markdown",
   "metadata": {},
   "source": [
    "Более 63% пользователей не воспользовались сервисом повторно, стоит поработать над удержанием клиентов."
   ]
  },
  {
   "cell_type": "code",
   "execution_count": 26,
   "metadata": {},
   "outputs": [
    {
     "data": {
      "text/html": [
       "<div>\n",
       "<style scoped>\n",
       "    .dataframe tbody tr th:only-of-type {\n",
       "        vertical-align: middle;\n",
       "    }\n",
       "\n",
       "    .dataframe tbody tr th {\n",
       "        vertical-align: top;\n",
       "    }\n",
       "\n",
       "    .dataframe thead th {\n",
       "        text-align: right;\n",
       "    }\n",
       "</style>\n",
       "<table border=\"1\" class=\"dataframe\">\n",
       "  <thead>\n",
       "    <tr style=\"text-align: right;\">\n",
       "      <th></th>\n",
       "      <th>state</th>\n",
       "      <th>count</th>\n",
       "    </tr>\n",
       "  </thead>\n",
       "  <tbody>\n",
       "    <tr>\n",
       "      <td>0</td>\n",
       "      <td>canceled</td>\n",
       "      <td>13</td>\n",
       "    </tr>\n",
       "    <tr>\n",
       "      <td>1</td>\n",
       "      <td>pending</td>\n",
       "      <td>7</td>\n",
       "    </tr>\n",
       "    <tr>\n",
       "      <td>2</td>\n",
       "      <td>shipped</td>\n",
       "      <td>334211</td>\n",
       "    </tr>\n",
       "  </tbody>\n",
       "</table>\n",
       "</div>"
      ],
      "text/plain": [
       "      state   count\n",
       "0  canceled      13\n",
       "1   pending       7\n",
       "2   shipped  334211"
      ]
     },
     "execution_count": 26,
     "metadata": {},
     "output_type": "execute_result"
    }
   ],
   "source": [
    "orders.groupby('state').count()['lat'].reset_index().rename(columns={'lat':'count'})"
   ]
  },
  {
   "cell_type": "markdown",
   "metadata": {},
   "source": [
    "Количество отмен заказов достаточно маленькое. Недостаточное для проведения анализа причин."
   ]
  },
  {
   "cell_type": "code",
   "execution_count": 27,
   "metadata": {},
   "outputs": [
    {
     "data": {
      "text/html": [
       "<div>\n",
       "<style scoped>\n",
       "    .dataframe tbody tr th:only-of-type {\n",
       "        vertical-align: middle;\n",
       "    }\n",
       "\n",
       "    .dataframe tbody tr th {\n",
       "        vertical-align: top;\n",
       "    }\n",
       "\n",
       "    .dataframe thead th {\n",
       "        text-align: right;\n",
       "    }\n",
       "</style>\n",
       "<table border=\"1\" class=\"dataframe\">\n",
       "  <thead>\n",
       "    <tr style=\"text-align: right;\">\n",
       "      <th></th>\n",
       "      <th>item_total</th>\n",
       "      <th>total_cost</th>\n",
       "    </tr>\n",
       "    <tr>\n",
       "      <th>store_city</th>\n",
       "      <th></th>\n",
       "      <th></th>\n",
       "    </tr>\n",
       "  </thead>\n",
       "  <tbody>\n",
       "    <tr>\n",
       "      <td>1.0</td>\n",
       "      <td>5083.0</td>\n",
       "      <td>202.0</td>\n",
       "    </tr>\n",
       "    <tr>\n",
       "      <td>20.0</td>\n",
       "      <td>5042.0</td>\n",
       "      <td>159.0</td>\n",
       "    </tr>\n",
       "    <tr>\n",
       "      <td>23.0</td>\n",
       "      <td>4750.0</td>\n",
       "      <td>136.0</td>\n",
       "    </tr>\n",
       "    <tr>\n",
       "      <td>2.0</td>\n",
       "      <td>3983.0</td>\n",
       "      <td>125.0</td>\n",
       "    </tr>\n",
       "    <tr>\n",
       "      <td>10.0</td>\n",
       "      <td>3755.0</td>\n",
       "      <td>98.0</td>\n",
       "    </tr>\n",
       "    <tr>\n",
       "      <td>5.0</td>\n",
       "      <td>4016.0</td>\n",
       "      <td>90.0</td>\n",
       "    </tr>\n",
       "    <tr>\n",
       "      <td>8.0</td>\n",
       "      <td>3602.0</td>\n",
       "      <td>86.0</td>\n",
       "    </tr>\n",
       "    <tr>\n",
       "      <td>13.0</td>\n",
       "      <td>3582.0</td>\n",
       "      <td>86.0</td>\n",
       "    </tr>\n",
       "  </tbody>\n",
       "</table>\n",
       "</div>"
      ],
      "text/plain": [
       "            item_total  total_cost\n",
       "store_city                        \n",
       "1.0             5083.0       202.0\n",
       "20.0            5042.0       159.0\n",
       "23.0            4750.0       136.0\n",
       "2.0             3983.0       125.0\n",
       "10.0            3755.0        98.0\n",
       "5.0             4016.0        90.0\n",
       "8.0             3602.0        86.0\n",
       "13.0            3582.0        86.0"
      ]
     },
     "execution_count": 27,
     "metadata": {},
     "output_type": "execute_result"
    }
   ],
   "source": [
    "orders.groupby('store_city')['item_total', 'total_cost'].mean().round().sort_values('total_cost', ascending=False)"
   ]
  },
  {
   "cell_type": "code",
   "execution_count": 28,
   "metadata": {},
   "outputs": [
    {
     "data": {
      "text/html": [
       "<div>\n",
       "<style scoped>\n",
       "    .dataframe tbody tr th:only-of-type {\n",
       "        vertical-align: middle;\n",
       "    }\n",
       "\n",
       "    .dataframe tbody tr th {\n",
       "        vertical-align: top;\n",
       "    }\n",
       "\n",
       "    .dataframe thead th {\n",
       "        text-align: right;\n",
       "    }\n",
       "</style>\n",
       "<table border=\"1\" class=\"dataframe\">\n",
       "  <thead>\n",
       "    <tr style=\"text-align: right;\">\n",
       "      <th></th>\n",
       "      <th>item_total</th>\n",
       "      <th>total_cost</th>\n",
       "    </tr>\n",
       "    <tr>\n",
       "      <th>retailer_id</th>\n",
       "      <th></th>\n",
       "      <th></th>\n",
       "    </tr>\n",
       "  </thead>\n",
       "  <tbody>\n",
       "    <tr>\n",
       "      <td>1.0</td>\n",
       "      <td>4970.0</td>\n",
       "      <td>190.0</td>\n",
       "    </tr>\n",
       "    <tr>\n",
       "      <td>15.0</td>\n",
       "      <td>3402.0</td>\n",
       "      <td>168.0</td>\n",
       "    </tr>\n",
       "    <tr>\n",
       "      <td>8.0</td>\n",
       "      <td>3268.0</td>\n",
       "      <td>184.0</td>\n",
       "    </tr>\n",
       "    <tr>\n",
       "      <td>16.0</td>\n",
       "      <td>3124.0</td>\n",
       "      <td>161.0</td>\n",
       "    </tr>\n",
       "  </tbody>\n",
       "</table>\n",
       "</div>"
      ],
      "text/plain": [
       "             item_total  total_cost\n",
       "retailer_id                        \n",
       "1.0              4970.0       190.0\n",
       "15.0             3402.0       168.0\n",
       "8.0              3268.0       184.0\n",
       "16.0             3124.0       161.0"
      ]
     },
     "execution_count": 28,
     "metadata": {},
     "output_type": "execute_result"
    }
   ],
   "source": [
    "retailer = orders.groupby('retailer_id')['item_total', 'total_cost'].mean().round().sort_values(\n",
    "    'item_total', ascending=False)\n",
    "retailer"
   ]
  },
  {
   "cell_type": "code",
   "execution_count": 29,
   "metadata": {},
   "outputs": [
    {
     "data": {
      "text/plain": [
       "<matplotlib.axes._subplots.AxesSubplot at 0x1d2f4659348>"
      ]
     },
     "execution_count": 29,
     "metadata": {},
     "output_type": "execute_result"
    },
    {
     "data": {
      "image/png": "[encoded data removed]",
      "text/plain": [
       "<Figure size 432x288 with 1 Axes>"
      ]
     },
     "metadata": {
      "needs_background": "light"
     },
     "output_type": "display_data"
    }
   ],
   "source": [
    "retailer.item_total.plot(kind='bar', rot=0)"
   ]
  },
  {
   "cell_type": "markdown",
   "metadata": {},
   "source": [
    "Проверим гипотезу, что средний чек на покупки у ритейлера 1 статистически значимо отличается от остальных"
   ]
  },
  {
   "cell_type": "code",
   "execution_count": 30,
   "metadata": {},
   "outputs": [],
   "source": [
    "one_retailer = orders[orders['retailer_id'] == 1].item_total.sample(10818)\n",
    "other_retailer = orders[orders['retailer_id'] != 1].item_total"
   ]
  },
  {
   "cell_type": "code",
   "execution_count": 31,
   "metadata": {},
   "outputs": [
    {
     "data": {
      "text/plain": [
       "10818"
      ]
     },
     "execution_count": 31,
     "metadata": {},
     "output_type": "execute_result"
    }
   ],
   "source": [
    "other_retailer.count()"
   ]
  },
  {
   "cell_type": "code",
   "execution_count": 32,
   "metadata": {},
   "outputs": [
    {
     "data": {
      "text/plain": [
       "(45786465.68128248, 4850266.320511459)"
      ]
     },
     "execution_count": 32,
     "metadata": {},
     "output_type": "execute_result"
    }
   ],
   "source": [
    "statistics.variance(one_retailer), statistics.variance(other_retailer)"
   ]
  },
  {
   "cell_type": "code",
   "execution_count": 33,
   "metadata": {},
   "outputs": [],
   "source": [
    "descriptives, results = rp.ttest(one_retailer, other_retailer, equal_variances=True)"
   ]
  },
  {
   "cell_type": "code",
   "execution_count": 34,
   "metadata": {},
   "outputs": [
    {
     "data": {
      "text/html": [
       "<div>\n",
       "<style scoped>\n",
       "    .dataframe tbody tr th:only-of-type {\n",
       "        vertical-align: middle;\n",
       "    }\n",
       "\n",
       "    .dataframe tbody tr th {\n",
       "        vertical-align: top;\n",
       "    }\n",
       "\n",
       "    .dataframe thead th {\n",
       "        text-align: right;\n",
       "    }\n",
       "</style>\n",
       "<table border=\"1\" class=\"dataframe\">\n",
       "  <thead>\n",
       "    <tr style=\"text-align: right;\">\n",
       "      <th></th>\n",
       "      <th>Variable</th>\n",
       "      <th>N</th>\n",
       "      <th>Mean</th>\n",
       "      <th>SD</th>\n",
       "      <th>SE</th>\n",
       "      <th>95% Conf.</th>\n",
       "      <th>Interval</th>\n",
       "    </tr>\n",
       "  </thead>\n",
       "  <tbody>\n",
       "    <tr>\n",
       "      <td>0</td>\n",
       "      <td>item_total</td>\n",
       "      <td>10818.0</td>\n",
       "      <td>4987.830837</td>\n",
       "      <td>6766.569713</td>\n",
       "      <td>65.057156</td>\n",
       "      <td>4860.306886</td>\n",
       "      <td>5115.354789</td>\n",
       "    </tr>\n",
       "    <tr>\n",
       "      <td>1</td>\n",
       "      <td>item_total</td>\n",
       "      <td>10818.0</td>\n",
       "      <td>3346.132187</td>\n",
       "      <td>2202.332019</td>\n",
       "      <td>21.174312</td>\n",
       "      <td>3304.626654</td>\n",
       "      <td>3387.637720</td>\n",
       "    </tr>\n",
       "    <tr>\n",
       "      <td>2</td>\n",
       "      <td>combined</td>\n",
       "      <td>21636.0</td>\n",
       "      <td>4166.981512</td>\n",
       "      <td>5098.138926</td>\n",
       "      <td>34.659571</td>\n",
       "      <td>4099.046201</td>\n",
       "      <td>4234.916823</td>\n",
       "    </tr>\n",
       "  </tbody>\n",
       "</table>\n",
       "</div>"
      ],
      "text/plain": [
       "     Variable        N         Mean           SD         SE    95% Conf.  \\\n",
       "0  item_total  10818.0  4987.830837  6766.569713  65.057156  4860.306886   \n",
       "1  item_total  10818.0  3346.132187  2202.332019  21.174312  3304.626654   \n",
       "2    combined  21636.0  4166.981512  5098.138926  34.659571  4099.046201   \n",
       "\n",
       "      Interval  \n",
       "0  5115.354789  \n",
       "1  3387.637720  \n",
       "2  4234.916823  "
      ]
     },
     "execution_count": 34,
     "metadata": {},
     "output_type": "execute_result"
    }
   ],
   "source": [
    "descriptives"
   ]
  },
  {
   "cell_type": "code",
   "execution_count": 35,
   "metadata": {},
   "outputs": [
    {
     "data": {
      "text/html": [
       "<div>\n",
       "<style scoped>\n",
       "    .dataframe tbody tr th:only-of-type {\n",
       "        vertical-align: middle;\n",
       "    }\n",
       "\n",
       "    .dataframe tbody tr th {\n",
       "        vertical-align: top;\n",
       "    }\n",
       "\n",
       "    .dataframe thead th {\n",
       "        text-align: right;\n",
       "    }\n",
       "</style>\n",
       "<table border=\"1\" class=\"dataframe\">\n",
       "  <thead>\n",
       "    <tr style=\"text-align: right;\">\n",
       "      <th></th>\n",
       "      <th>Independent t-test</th>\n",
       "      <th>results</th>\n",
       "    </tr>\n",
       "  </thead>\n",
       "  <tbody>\n",
       "    <tr>\n",
       "      <td>0</td>\n",
       "      <td>Difference (item_total - item_total) =</td>\n",
       "      <td>1641.6987</td>\n",
       "    </tr>\n",
       "    <tr>\n",
       "      <td>1</td>\n",
       "      <td>Degrees of freedom =</td>\n",
       "      <td>21634.0000</td>\n",
       "    </tr>\n",
       "    <tr>\n",
       "      <td>2</td>\n",
       "      <td>t =</td>\n",
       "      <td>23.9957</td>\n",
       "    </tr>\n",
       "    <tr>\n",
       "      <td>3</td>\n",
       "      <td>Two side test p value =</td>\n",
       "      <td>0.0000</td>\n",
       "    </tr>\n",
       "    <tr>\n",
       "      <td>4</td>\n",
       "      <td>Difference &lt; 0 p value =</td>\n",
       "      <td>1.0000</td>\n",
       "    </tr>\n",
       "    <tr>\n",
       "      <td>5</td>\n",
       "      <td>Difference &gt; 0 p value =</td>\n",
       "      <td>0.0000</td>\n",
       "    </tr>\n",
       "    <tr>\n",
       "      <td>6</td>\n",
       "      <td>Cohen's d =</td>\n",
       "      <td>0.3263</td>\n",
       "    </tr>\n",
       "    <tr>\n",
       "      <td>7</td>\n",
       "      <td>Hedge's g =</td>\n",
       "      <td>0.3263</td>\n",
       "    </tr>\n",
       "    <tr>\n",
       "      <td>8</td>\n",
       "      <td>Glass's delta =</td>\n",
       "      <td>0.2426</td>\n",
       "    </tr>\n",
       "    <tr>\n",
       "      <td>9</td>\n",
       "      <td>r =</td>\n",
       "      <td>0.1610</td>\n",
       "    </tr>\n",
       "  </tbody>\n",
       "</table>\n",
       "</div>"
      ],
      "text/plain": [
       "                        Independent t-test     results\n",
       "0  Difference (item_total - item_total) =    1641.6987\n",
       "1                    Degrees of freedom =   21634.0000\n",
       "2                                     t =      23.9957\n",
       "3                 Two side test p value =       0.0000\n",
       "4                Difference < 0 p value =       1.0000\n",
       "5                Difference > 0 p value =       0.0000\n",
       "6                             Cohen's d =       0.3263\n",
       "7                             Hedge's g =       0.3263\n",
       "8                         Glass's delta =       0.2426\n",
       "9                                     r =       0.1610"
      ]
     },
     "execution_count": 35,
     "metadata": {},
     "output_type": "execute_result"
    }
   ],
   "source": [
    "results"
   ]
  },
  {
   "cell_type": "markdown",
   "metadata": {},
   "source": [
    "p-value < 0.05, поэтому можно сказать, что имеется статистическое различие между выборками. Наша гипотеза верна."
   ]
  },
  {
   "cell_type": "code",
   "execution_count": 36,
   "metadata": {},
   "outputs": [
    {
     "data": {
      "image/png": "[encoded data removed]",
      "text/plain": [
       "<Figure size 864x864 with 2 Axes>"
      ]
     },
     "metadata": {
      "needs_background": "light"
     },
     "output_type": "display_data"
    }
   ],
   "source": [
    "sns.heatmap(orders.corr(), annot=True, linewidths=0.3, cmap='coolwarm')\n",
    "fig=plt.gcf()\n",
    "fig.set_size_inches(12,12)"
   ]
  },
  {
   "cell_type": "markdown",
   "metadata": {},
   "source": [
    "Неочевидных значимых корреляций признаков не обнаружено."
   ]
  },
  {
   "cell_type": "code",
   "execution_count": 37,
   "metadata": {},
   "outputs": [
    {
     "data": {
      "text/plain": [
       "<matplotlib.axes._subplots.AxesSubplot at 0x1d2ecd11c08>"
      ]
     },
     "execution_count": 37,
     "metadata": {},
     "output_type": "execute_result"
    },
    {
     "data": {
      "image/png": "[encoded data removed]",
      "text/plain": [
       "<Figure size 432x288 with 1 Axes>"
      ]
     },
     "metadata": {
      "needs_background": "light"
     },
     "output_type": "display_data"
    }
   ],
   "source": [
    "orders.groupby('month_order').count().order_id.rename(\n",
    "                      columns={'order_id':'count_orders'}).plot(kind='bar', rot=0)"
   ]
  },
  {
   "cell_type": "code",
   "execution_count": 38,
   "metadata": {},
   "outputs": [
    {
     "data": {
      "text/plain": [
       "[]"
      ]
     },
     "execution_count": 38,
     "metadata": {},
     "output_type": "execute_result"
    },
    {
     "data": {
      "image/png": "[encoded data removed]",
      "text/plain": [
       "<Figure size 432x288 with 1 Axes>"
      ]
     },
     "metadata": {
      "needs_background": "light"
     },
     "output_type": "display_data"
    }
   ],
   "source": [
    "orders.groupby('month_order').mean().item_total.rename(columns={'order_id':'count_orders'}\n",
    "                                                     ).plot(kind='bar', rot=0).plot(kind='bar', rot=0)"
   ]
  },
  {
   "cell_type": "markdown",
   "metadata": {},
   "source": [
    "Можно отметить сезонный спад с августа и до нового года. Пик заказов в свою очередь приходится на период с конца весны и до августа. При этом значительных отличий среднего чека не наблюдается."
   ]
  },
  {
   "cell_type": "code",
   "execution_count": 39,
   "metadata": {},
   "outputs": [
    {
     "data": {
      "text/plain": [
       "<matplotlib.axes._subplots.AxesSubplot at 0x1d2ecdf85c8>"
      ]
     },
     "execution_count": 39,
     "metadata": {},
     "output_type": "execute_result"
    },
    {
     "data": {
      "image/png": "[encoded data removed]",
      "text/plain": [
       "<Figure size 432x288 with 1 Axes>"
      ]
     },
     "metadata": {
      "needs_background": "light"
     },
     "output_type": "display_data"
    }
   ],
   "source": [
    "orders.groupby('hour_order').count().order_id.rename(\n",
    "                      columns={'order_id':'count_orders'}).plot(kind='bar', rot=0)"
   ]
  },
  {
   "cell_type": "markdown",
   "metadata": {},
   "source": [
    "Пик заказов по времени приходится на период с 7 утро и до обеда. Возможно в это время требуется больше доставщиков."
   ]
  }
 ],
 "metadata": {
  "celltoolbar": "Raw Cell Format",
  "kernelspec": {
   "display_name": "Python 3",
   "language": "python",
   "name": "python3"
  },
  "language_info": {
   "codemirror_mode": {
    "name": "ipython",
    "version": 3
   },
   "file_extension": ".py",
   "mimetype": "text/x-python",
   "name": "python",
   "nbconvert_exporter": "python",
   "pygments_lexer": "ipython3",
   "version": "3.7.4"
  },
  "widgets": {
   "application/vnd.jupyter.widget-state+json": {
    "state": {},
    "version_major": 2,
    "version_minor": 0
   }
  }
 },
 "nbformat": 4,
 "nbformat_minor": 2
}
